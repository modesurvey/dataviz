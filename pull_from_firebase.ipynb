{
 "cells": [
  {
   "cell_type": "code",
   "execution_count": 18,
   "metadata": {},
   "outputs": [],
   "source": [
    "import pyrebase"
   ]
  },
  {
   "cell_type": "code",
   "execution_count": 206,
   "metadata": {},
   "outputs": [],
   "source": [
    "import config\n",
    "import json\n",
    "import pandas as pd\n",
    "import matplotlib.pyplot as plt\n",
    "import datetime\n",
    "import seaborn as sns\n",
    "import time\n",
    "import numpy as np\n",
    "\n",
    "%matplotlib inline"
   ]
  },
  {
   "cell_type": "code",
   "execution_count": 20,
   "metadata": {},
   "outputs": [
    {
     "data": {
      "text/plain": [
       "'surveybox-fe69c'"
      ]
     },
     "execution_count": 20,
     "metadata": {},
     "output_type": "execute_result"
    }
   ],
   "source": [
    "config.url"
   ]
  },
  {
   "cell_type": "code",
   "execution_count": 21,
   "metadata": {},
   "outputs": [
    {
     "data": {
      "text/plain": [
       "<pyrebase.pyrebase.Firebase at 0x11a1bebe0>"
      ]
     },
     "execution_count": 21,
     "metadata": {},
     "output_type": "execute_result"
    }
   ],
   "source": [
    "firebase"
   ]
  },
  {
   "cell_type": "code",
   "execution_count": 67,
   "metadata": {},
   "outputs": [],
   "source": [
    "config = {\n",
    "  \"apiKey\": \"apiKey\",\n",
    "  \"authDomain\": \"projectId.firebaseapp.com\",\n",
    "  \"databaseURL\": \"https://surveybox-fe69c.firebaseio.com\",\n",
    "  \"storageBucket\": \"projectId.appspot.com\"}\n",
    "\n",
    "firebase = pyrebase.initialize_app(config)"
   ]
  },
  {
   "cell_type": "code",
   "execution_count": 68,
   "metadata": {},
   "outputs": [],
   "source": [
    "db = firebase.database()"
   ]
  },
  {
   "cell_type": "code",
   "execution_count": 91,
   "metadata": {},
   "outputs": [
    {
     "data": {
      "text/plain": [
       "{'name': '-Lxr12ilORWmTRzxPeNY'}"
      ]
     },
     "execution_count": 91,
     "metadata": {},
     "output_type": "execute_result"
    }
   ],
   "source": [
    "# use push to generate an auto-id\n",
    "\n",
    "\n",
    "db.child(\"events\").push(data={\"timestamp\": str(datetime.datetime.now().strftime('%s')), 'type': 'transit', 'unit': '98798yuah8'})"
   ]
  },
  {
   "cell_type": "code",
   "execution_count": 290,
   "metadata": {},
   "outputs": [
    {
     "name": "stdout",
     "output_type": "stream",
     "text": [
      "transit\n",
      "car\n",
      "car\n",
      "wheels\n",
      "wheels\n",
      "car\n",
      "car\n",
      "car\n",
      "car\n",
      "transit\n"
     ]
    }
   ],
   "source": [
    "# use push to generate an auto-id\n",
    "for _ in range(10):\n",
    "    t = np.random.choice(['walk', 'transit', 'wheels', 'car'])\n",
    "    db.child(\"events\").push(data={\"timestamp\": str(datetime.datetime.now().strftime('%s')), \n",
    "                              'type': t, 'unit': '98798yuah8'})\n",
    "    s = np.random.choice([4, 2, 3, 1])\n",
    "    time.sleep(s)\n",
    "    print(t)"
   ]
  },
  {
   "cell_type": "code",
   "execution_count": 92,
   "metadata": {},
   "outputs": [
    {
     "data": {
      "text/plain": [
       "'1578250041'"
      ]
     },
     "execution_count": 92,
     "metadata": {},
     "output_type": "execute_result"
    }
   ],
   "source": [
    "str(datetime.datetime.now().strftime('%s'))"
   ]
  },
  {
   "cell_type": "code",
   "execution_count": 251,
   "metadata": {},
   "outputs": [],
   "source": [
    "d = db.order_by_child('events')"
   ]
  },
  {
   "cell_type": "code",
   "execution_count": 265,
   "metadata": {},
   "outputs": [],
   "source": [
    "# db.child().get().val()"
   ]
  },
  {
   "cell_type": "code",
   "execution_count": 282,
   "metadata": {},
   "outputs": [],
   "source": [
    "resp = db.get()"
   ]
  },
  {
   "cell_type": "code",
   "execution_count": 283,
   "metadata": {},
   "outputs": [],
   "source": [
    "data = []\n",
    "for f, v in dict(resp.val())['events'].items():\n",
    "    data.append(v)\n",
    "data = pd.DataFrame(data)"
   ]
  },
  {
   "cell_type": "code",
   "execution_count": 284,
   "metadata": {},
   "outputs": [],
   "source": [
    "def convert(d):\n",
    "    try:\n",
    "        return datetime.datetime.fromtimestamp(int(d))\n",
    "    except:\n",
    "        'error'"
   ]
  },
  {
   "cell_type": "code",
   "execution_count": 285,
   "metadata": {},
   "outputs": [],
   "source": [
    "data['timestamp'] = data['timestamp'].apply(convert)"
   ]
  },
  {
   "cell_type": "code",
   "execution_count": 271,
   "metadata": {},
   "outputs": [],
   "source": [
    "# data"
   ]
  },
  {
   "cell_type": "code",
   "execution_count": 272,
   "metadata": {},
   "outputs": [],
   "source": [
    "data = data.sort_values('timestamp')"
   ]
  },
  {
   "cell_type": "code",
   "execution_count": 273,
   "metadata": {},
   "outputs": [
    {
     "data": {
      "image/png": "[encoded data removed]",
      "text/plain": [
       "<Figure size 1080x144 with 1 Axes>"
      ]
     },
     "metadata": {},
     "output_type": "display_data"
    }
   ],
   "source": [
    "plt.figure(figsize=(15, 2))\n",
    "plt.hist(data['timestamp'], rwidth=.05, bins=20)\n",
    "plt.title('Logs')\n",
    "_=plt.xticks(rotation=90)"
   ]
  },
  {
   "cell_type": "code",
   "execution_count": 274,
   "metadata": {},
   "outputs": [],
   "source": [
    "# data.sort_values('timestamp')"
   ]
  },
  {
   "cell_type": "code",
   "execution_count": null,
   "metadata": {},
   "outputs": [],
   "source": []
  },
  {
   "cell_type": "code",
   "execution_count": 278,
   "metadata": {},
   "outputs": [],
   "source": [
    "unit_translation = {'38ed9c286f24': \"Cafe Allegro\", \n",
    "                    '98798yuah8': \"Bulldog Espresso\", \n",
    "                    \"a03e9e286f24\": \"Magus Books\"}"
   ]
  },
  {
   "cell_type": "code",
   "execution_count": 286,
   "metadata": {},
   "outputs": [],
   "source": [
    "data['count'] = 1\n",
    "grouped_data = data.groupby(['unit', 'type'])['count'].sum().reset_index()\n",
    "\n",
    "list_ordering = [\"walk\", \"wheels\", 'transit', 'car']  \n",
    "\n",
    "grouped_data[\"type\"] = pd.Categorical(grouped_data[\"type\"], categories=list_ordering, ordered=True)\n",
    "grouped_data[\"unit\"] = grouped_data['unit'].apply(lambda k: unit_translation[k])"
   ]
  },
  {
   "cell_type": "code",
   "execution_count": 287,
   "metadata": {},
   "outputs": [],
   "source": [
    "# Create an array with the colors you want to use\n",
    "colors = [\"#2b56ff\", \"#0c780c\", \"#db0a07\", \"#0a0606\"]\n",
    "# Set your custom color palette\n",
    "customPalette = sns.set_palette(sns.color_palette(colors))"
   ]
  },
  {
   "cell_type": "code",
   "execution_count": 288,
   "metadata": {},
   "outputs": [
    {
     "data": {
      "image/png": "[encoded data removed]",
      "text/plain": [
       "<Figure size 1080x360 with 3 Axes>"
      ]
     },
     "metadata": {},
     "output_type": "display_data"
    }
   ],
   "source": [
    "g = sns.catplot(x=\"type\", y=\"count\", col=\"unit\",\n",
    "                data=grouped_data, saturation=.5,\n",
    "                kind=\"bar\", aspect=1, palette=customPalette)\n",
    "(g.set_xticklabels([\"walk\", \"wheels\", \"transit\", \"car\"])\n",
    "    .set_titles(\"{col_name}\")\n",
    "    .despine(left=True))\n",
    "sns.set(font_scale=1)"
   ]
  },
  {
   "cell_type": "code",
   "execution_count": null,
   "metadata": {},
   "outputs": [],
   "source": []
  }
 ],
 "metadata": {
  "kernelspec": {
   "display_name": "Python 3",
   "language": "python",
   "name": "python3"
  },
  "language_info": {
   "codemirror_mode": {
    "name": "ipython",
    "version": 3
   },
   "file_extension": ".py",
   "mimetype": "text/x-python",
   "name": "python",
   "nbconvert_exporter": "python",
   "pygments_lexer": "ipython3",
   "version": "3.7.0"
  }
 },
 "nbformat": 4,
 "nbformat_minor": 4
}
