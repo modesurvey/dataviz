{
 "cells": [
  {
   "cell_type": "markdown",
   "metadata": {},
   "source": [
    "# Pulling specific specific Bulldog data"
   ]
  },
  {
   "cell_type": "code",
   "execution_count": 78,
   "metadata": {},
   "outputs": [],
   "source": [
    "import pyrebase\n",
    "import config\n",
    "import json\n",
    "import pandas as pd\n",
    "import matplotlib.pyplot as plt\n",
    "import datetime\n",
    "import seaborn as sns\n",
    "import time\n",
    "import numpy as np\n",
    "import nordypy\n",
    "from collections import defaultdict\n",
    "\n",
    "%matplotlib inline"
   ]
  },
  {
   "cell_type": "code",
   "execution_count": 112,
   "metadata": {},
   "outputs": [],
   "source": [
    "config = {\n",
    "\"apiKey\": \"apiKey\",\n",
    "\"authDomain\": \"projectId.firebaseapp.com\",\n",
    "\"databaseURL\": \"https://surveybox-fe69c.firebaseio.com\",\n",
    "\"storageBucket\": \"projectId.appspot.com\"}\n",
    "\n",
    "firebase = pyrebase.initialize_app(config)\n",
    "\n",
    "unit_translation = {\"a03e9e286f24\": \"Bulldog News\"}\n",
    "\n",
    "db = firebase.database()\n",
    "resp = db.get()\n",
    "data = []\n",
    "for f, v in dict(resp.val())['accounts'].items():\n",
    "    data.append(v)\n",
    "#data = pd.DataFrame(data)\n",
    "\n",
    "def convert(d):\n",
    "        try:\n",
    "            return datetime.datetime.fromtimestamp(int(d))\n",
    "        except:\n",
    "            'error'\n",
    "\n"
   ]
  },
  {
   "cell_type": "code",
   "execution_count": 126,
   "metadata": {},
   "outputs": [],
   "source": [
    "# get locations and their english names {'location_id': 'bulldog'}\n",
    "# get the streams associated with those locations"
   ]
  },
  {
   "cell_type": "code",
   "execution_count": 128,
   "metadata": {},
   "outputs": [],
   "source": [
    "locations = {}\n",
    "for loc in data:\n",
    "    name = loc['name']\n",
    "    for k, v in loc['locations'].items():\n",
    "        locations[k] = name"
   ]
  },
  {
   "cell_type": "code",
   "execution_count": 129,
   "metadata": {},
   "outputs": [
    {
     "data": {
      "text/plain": [
       "{'-M0AbGHn5cUTdJ_jmz7w': 'Bulldog News',\n",
       " '-M0AanJQ73IIIua0RTVj': 'Cafe Allegro'}"
      ]
     },
     "execution_count": 129,
     "metadata": {},
     "output_type": "execute_result"
    }
   ],
   "source": [
    "locations"
   ]
  },
  {
   "cell_type": "code",
   "execution_count": 130,
   "metadata": {},
   "outputs": [],
   "source": [
    "events = defaultdict(list)\n",
    "for k, v  in dict(resp.val()['streams']).items():\n",
    "    location_id = v['location_id']\n",
    "    for event_key, event in v['events'].items():\n",
    "        events[locations[location_id]].append(event)"
   ]
  },
  {
   "cell_type": "code",
   "execution_count": 152,
   "metadata": {},
   "outputs": [
    {
     "name": "stdout",
     "output_type": "stream",
     "text": [
      "Total responses: 216\n",
      "Total responses: 194\n"
     ]
    }
   ],
   "source": [
    "def convert(d):\n",
    "        try:\n",
    "            return datetime.datetime.fromtimestamp(int(d))\n",
    "        except:\n",
    "            'error'\n",
    "\n",
    "all_data = pd.DataFrame()\n",
    "for k, v in events.items():\n",
    "    data = pd.DataFrame(v)\n",
    "\n",
    "    data['timestamp'] = data['timestamp'].apply(convert)\n",
    "    data['count'] = 1\n",
    "    print(f'Total responses: {len(data)}')\n",
    "    grouped_data = data.groupby(['type'])['count'].sum().reset_index()\n",
    "\n",
    "    list_ordering = [\"walk\", \"wheels\", 'transit', 'car']  \n",
    "\n",
    "    grouped_data[\"type\"] = pd.Categorical(grouped_data[\"type\"], categories=list_ordering, ordered=True)\n",
    "    grouped_data[\"account\"] = k\n",
    "    all_data = pd.concat([all_data, grouped_data])"
   ]
  },
  {
   "cell_type": "code",
   "execution_count": 161,
   "metadata": {},
   "outputs": [
    {
     "data": {
      "text/html": [
       "<div>\n",
       "<style scoped>\n",
       "    .dataframe tbody tr th:only-of-type {\n",
       "        vertical-align: middle;\n",
       "    }\n",
       "\n",
       "    .dataframe tbody tr th {\n",
       "        vertical-align: top;\n",
       "    }\n",
       "\n",
       "    .dataframe thead th {\n",
       "        text-align: right;\n",
       "    }\n",
       "</style>\n",
       "<table border=\"1\" class=\"dataframe\">\n",
       "  <thead>\n",
       "    <tr style=\"text-align: right;\">\n",
       "      <th></th>\n",
       "      <th>timestamp</th>\n",
       "      <th>type</th>\n",
       "      <th>count</th>\n",
       "    </tr>\n",
       "  </thead>\n",
       "  <tbody>\n",
       "    <tr>\n",
       "      <th>0</th>\n",
       "      <td>2020-01-12 11:23:30</td>\n",
       "      <td>transit</td>\n",
       "      <td>1</td>\n",
       "    </tr>\n",
       "    <tr>\n",
       "      <th>1</th>\n",
       "      <td>2020-01-12 11:23:44</td>\n",
       "      <td>car</td>\n",
       "      <td>1</td>\n",
       "    </tr>\n",
       "    <tr>\n",
       "      <th>2</th>\n",
       "      <td>2020-01-12 11:23:50</td>\n",
       "      <td>car</td>\n",
       "      <td>1</td>\n",
       "    </tr>\n",
       "    <tr>\n",
       "      <th>3</th>\n",
       "      <td>2020-01-12 11:26:34</td>\n",
       "      <td>walk</td>\n",
       "      <td>1</td>\n",
       "    </tr>\n",
       "    <tr>\n",
       "      <th>4</th>\n",
       "      <td>2020-01-12 11:27:56</td>\n",
       "      <td>walk</td>\n",
       "      <td>1</td>\n",
       "    </tr>\n",
       "    <tr>\n",
       "      <th>...</th>\n",
       "      <td>...</td>\n",
       "      <td>...</td>\n",
       "      <td>...</td>\n",
       "    </tr>\n",
       "    <tr>\n",
       "      <th>189</th>\n",
       "      <td>2020-02-09 13:41:33</td>\n",
       "      <td>walk</td>\n",
       "      <td>1</td>\n",
       "    </tr>\n",
       "    <tr>\n",
       "      <th>190</th>\n",
       "      <td>2020-02-09 13:41:56</td>\n",
       "      <td>walk</td>\n",
       "      <td>1</td>\n",
       "    </tr>\n",
       "    <tr>\n",
       "      <th>191</th>\n",
       "      <td>2020-02-09 13:41:56</td>\n",
       "      <td>walk</td>\n",
       "      <td>1</td>\n",
       "    </tr>\n",
       "    <tr>\n",
       "      <th>192</th>\n",
       "      <td>2020-02-09 13:46:01</td>\n",
       "      <td>car</td>\n",
       "      <td>1</td>\n",
       "    </tr>\n",
       "    <tr>\n",
       "      <th>193</th>\n",
       "      <td>2020-02-09 13:46:01</td>\n",
       "      <td>car</td>\n",
       "      <td>1</td>\n",
       "    </tr>\n",
       "  </tbody>\n",
       "</table>\n",
       "<p>194 rows × 3 columns</p>\n",
       "</div>"
      ],
      "text/plain": [
       "              timestamp     type  count\n",
       "0   2020-01-12 11:23:30  transit      1\n",
       "1   2020-01-12 11:23:44      car      1\n",
       "2   2020-01-12 11:23:50      car      1\n",
       "3   2020-01-12 11:26:34     walk      1\n",
       "4   2020-01-12 11:27:56     walk      1\n",
       "..                  ...      ...    ...\n",
       "189 2020-02-09 13:41:33     walk      1\n",
       "190 2020-02-09 13:41:56     walk      1\n",
       "191 2020-02-09 13:41:56     walk      1\n",
       "192 2020-02-09 13:46:01      car      1\n",
       "193 2020-02-09 13:46:01      car      1\n",
       "\n",
       "[194 rows x 3 columns]"
      ]
     },
     "execution_count": 161,
     "metadata": {},
     "output_type": "execute_result"
    }
   ],
   "source": [
    "data"
   ]
  },
  {
   "cell_type": "code",
   "execution_count": 162,
   "metadata": {},
   "outputs": [
    {
     "data": {
      "text/html": [
       "<div>\n",
       "<style scoped>\n",
       "    .dataframe tbody tr th:only-of-type {\n",
       "        vertical-align: middle;\n",
       "    }\n",
       "\n",
       "    .dataframe tbody tr th {\n",
       "        vertical-align: top;\n",
       "    }\n",
       "\n",
       "    .dataframe thead th {\n",
       "        text-align: right;\n",
       "    }\n",
       "</style>\n",
       "<table border=\"1\" class=\"dataframe\">\n",
       "  <thead>\n",
       "    <tr style=\"text-align: right;\">\n",
       "      <th></th>\n",
       "      <th>timestamp</th>\n",
       "      <th>type</th>\n",
       "      <th>count</th>\n",
       "    </tr>\n",
       "  </thead>\n",
       "  <tbody>\n",
       "    <tr>\n",
       "      <th>0</th>\n",
       "      <td>2020-01-12 11:23:30</td>\n",
       "      <td>transit</td>\n",
       "      <td>1</td>\n",
       "    </tr>\n",
       "    <tr>\n",
       "      <th>1</th>\n",
       "      <td>2020-01-12 11:23:44</td>\n",
       "      <td>car</td>\n",
       "      <td>1</td>\n",
       "    </tr>\n",
       "    <tr>\n",
       "      <th>2</th>\n",
       "      <td>2020-01-12 11:23:50</td>\n",
       "      <td>car</td>\n",
       "      <td>1</td>\n",
       "    </tr>\n",
       "    <tr>\n",
       "      <th>3</th>\n",
       "      <td>2020-01-12 11:26:34</td>\n",
       "      <td>walk</td>\n",
       "      <td>1</td>\n",
       "    </tr>\n",
       "    <tr>\n",
       "      <th>4</th>\n",
       "      <td>2020-01-12 11:27:56</td>\n",
       "      <td>walk</td>\n",
       "      <td>1</td>\n",
       "    </tr>\n",
       "    <tr>\n",
       "      <th>...</th>\n",
       "      <td>...</td>\n",
       "      <td>...</td>\n",
       "      <td>...</td>\n",
       "    </tr>\n",
       "    <tr>\n",
       "      <th>186</th>\n",
       "      <td>2020-02-09 13:34:39</td>\n",
       "      <td>transit</td>\n",
       "      <td>1</td>\n",
       "    </tr>\n",
       "    <tr>\n",
       "      <th>187</th>\n",
       "      <td>2020-02-09 13:35:21</td>\n",
       "      <td>transit</td>\n",
       "      <td>1</td>\n",
       "    </tr>\n",
       "    <tr>\n",
       "      <th>188</th>\n",
       "      <td>2020-02-09 13:41:33</td>\n",
       "      <td>walk</td>\n",
       "      <td>1</td>\n",
       "    </tr>\n",
       "    <tr>\n",
       "      <th>190</th>\n",
       "      <td>2020-02-09 13:41:56</td>\n",
       "      <td>walk</td>\n",
       "      <td>1</td>\n",
       "    </tr>\n",
       "    <tr>\n",
       "      <th>192</th>\n",
       "      <td>2020-02-09 13:46:01</td>\n",
       "      <td>car</td>\n",
       "      <td>1</td>\n",
       "    </tr>\n",
       "  </tbody>\n",
       "</table>\n",
       "<p>146 rows × 3 columns</p>\n",
       "</div>"
      ],
      "text/plain": [
       "              timestamp     type  count\n",
       "0   2020-01-12 11:23:30  transit      1\n",
       "1   2020-01-12 11:23:44      car      1\n",
       "2   2020-01-12 11:23:50      car      1\n",
       "3   2020-01-12 11:26:34     walk      1\n",
       "4   2020-01-12 11:27:56     walk      1\n",
       "..                  ...      ...    ...\n",
       "186 2020-02-09 13:34:39  transit      1\n",
       "187 2020-02-09 13:35:21  transit      1\n",
       "188 2020-02-09 13:41:33     walk      1\n",
       "190 2020-02-09 13:41:56     walk      1\n",
       "192 2020-02-09 13:46:01      car      1\n",
       "\n",
       "[146 rows x 3 columns]"
      ]
     },
     "execution_count": 162,
     "metadata": {},
     "output_type": "execute_result"
    }
   ],
   "source": [
    "data.drop_duplicates(['timestamp', 'type'])"
   ]
  },
  {
   "cell_type": "code",
   "execution_count": 156,
   "metadata": {},
   "outputs": [
    {
     "name": "stdout",
     "output_type": "stream",
     "text": [
      "Bulldog News\n"
     ]
    },
    {
     "data": {
      "image/png": "[encoded data removed]",
      "text/plain": [
       "<Figure size 432x288 with 1 Axes>"
      ]
     },
     "metadata": {},
     "output_type": "display_data"
    },
    {
     "name": "stdout",
     "output_type": "stream",
     "text": [
      "Cafe Allegro\n"
     ]
    },
    {
     "data": {
      "image/png": "[encoded data removed]",
      "text/plain": [
       "<Figure size 432x288 with 1 Axes>"
      ]
     },
     "metadata": {},
     "output_type": "display_data"
    }
   ],
   "source": [
    "sns.set_style(\"whitegrid\")\n",
    "# Create an array with the colors you want to use\n",
    "colors = ['#66b3ff','#99ff99','#ff9999','#808080']\n",
    "# Set your custom color palette\n",
    "customPalette = sns.set_palette(sns.color_palette(colors))\n",
    "\n",
    "# g = sns.catplot(x=\"type\", y=\"count\", col=\"account\",\n",
    "#                 data=grouped_data, saturation=.5,\n",
    "#                 kind=\"bar\", aspect=1, palette=customPalette)\n",
    "# (g.set_xticklabels([\"walk\", \"wheels\", \"transit\", \"car\"])\n",
    "#     .set_titles(\"{col_name}\")\n",
    "#     .despine(left=True))\n",
    "# sns.set(font_scale=1)\n",
    "# plt.savefig('grouped_data.png')\n",
    "\n",
    "# Pie chart\n",
    "\n",
    "for u in all_data['account'].unique():\n",
    "    mini = all_data[all_data['account'] == u]\n",
    "    labels = mini['type']\n",
    "    sizes = mini['count']\n",
    "\n",
    "    #colors : car transit wheels walk\n",
    "    colors = ['#808080','#ff9999','#66b3ff', '#99ff99']\n",
    "\n",
    "    fig1, ax1 = plt.subplots()\n",
    "    ax1.pie(sizes, colors = colors, labels=labels, autopct='%1.1f%%', startangle=90, pctdistance=.55)\n",
    "    #draw circle\n",
    "    centre_circle = plt.Circle((0,0),0.70,fc='white')\n",
    "    fig = plt.gcf()\n",
    "    fig.gca().add_artist(centre_circle)\n",
    "    # Equal aspect ratio ensures that pie is drawn as a circle\n",
    "    plt.title(u)\n",
    "    ax1.axis('equal')  \n",
    "    fig.text(.5, .01, 'Updated at: ' + str( datetime.datetime.now().strftime(\"%Y-%m-%d %I:%M %p\")  ), \n",
    "              ha='center', fontsize=10)\n",
    "\n",
    "    plt.tight_layout()\n",
    "    path = 'output/'\n",
    "    path = path + '_'.join(u.lower().split(' ')) + '.png'\n",
    "    print(u)\n",
    "    plt.savefig(path)\n",
    "    plt.show()\n",
    "    plt.close()\n",
    "    #nordypy.s3_upload(bucket='modesurvey-dataviz', s3_filepath=path, \n",
    "                                                 # local_filepath=path,\n",
    "                                                 # permission='public-read')"
   ]
  },
  {
   "cell_type": "code",
   "execution_count": 154,
   "metadata": {},
   "outputs": [
    {
     "data": {
      "text/html": [
       "<div>\n",
       "<style scoped>\n",
       "    .dataframe tbody tr th:only-of-type {\n",
       "        vertical-align: middle;\n",
       "    }\n",
       "\n",
       "    .dataframe tbody tr th {\n",
       "        vertical-align: top;\n",
       "    }\n",
       "\n",
       "    .dataframe thead th {\n",
       "        text-align: right;\n",
       "    }\n",
       "</style>\n",
       "<table border=\"1\" class=\"dataframe\">\n",
       "  <thead>\n",
       "    <tr style=\"text-align: right;\">\n",
       "      <th></th>\n",
       "      <th>type</th>\n",
       "      <th>count</th>\n",
       "      <th>account</th>\n",
       "    </tr>\n",
       "  </thead>\n",
       "  <tbody>\n",
       "    <tr>\n",
       "      <th>0</th>\n",
       "      <td>car</td>\n",
       "      <td>41</td>\n",
       "      <td>Cafe Allegro</td>\n",
       "    </tr>\n",
       "    <tr>\n",
       "      <th>1</th>\n",
       "      <td>transit</td>\n",
       "      <td>31</td>\n",
       "      <td>Cafe Allegro</td>\n",
       "    </tr>\n",
       "    <tr>\n",
       "      <th>2</th>\n",
       "      <td>walk</td>\n",
       "      <td>103</td>\n",
       "      <td>Cafe Allegro</td>\n",
       "    </tr>\n",
       "    <tr>\n",
       "      <th>3</th>\n",
       "      <td>wheels</td>\n",
       "      <td>19</td>\n",
       "      <td>Cafe Allegro</td>\n",
       "    </tr>\n",
       "  </tbody>\n",
       "</table>\n",
       "</div>"
      ],
      "text/plain": [
       "      type  count       account\n",
       "0      car     41  Cafe Allegro\n",
       "1  transit     31  Cafe Allegro\n",
       "2     walk    103  Cafe Allegro\n",
       "3   wheels     19  Cafe Allegro"
      ]
     },
     "execution_count": 154,
     "metadata": {},
     "output_type": "execute_result"
    }
   ],
   "source": [
    "grouped_data"
   ]
  },
  {
   "cell_type": "code",
   "execution_count": null,
   "metadata": {},
   "outputs": [],
   "source": []
  }
 ],
 "metadata": {
  "kernelspec": {
   "display_name": "Python 3",
   "language": "python",
   "name": "python3"
  },
  "language_info": {
   "codemirror_mode": {
    "name": "ipython",
    "version": 3
   },
   "file_extension": ".py",
   "mimetype": "text/x-python",
   "name": "python",
   "nbconvert_exporter": "python",
   "pygments_lexer": "ipython3",
   "version": "3.7.0"
  }
 },
 "nbformat": 4,
 "nbformat_minor": 4
}
